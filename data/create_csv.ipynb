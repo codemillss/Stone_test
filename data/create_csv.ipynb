{
 "cells": [
  {
   "cell_type": "code",
   "execution_count": 2,
   "metadata": {},
   "outputs": [
    {
     "name": "stdout",
     "output_type": "stream",
     "text": [
      "       File_Name Stone Person No. Image No.\n",
      "0     1000-1.jpg     0       1000     1.jpg\n",
      "1     1000-2.jpg     0       1000     2.jpg\n",
      "2     1000-3.jpg     0       1000     3.jpg\n",
      "3     1000-4.jpg     0       1000     4.jpg\n",
      "4     1001-1.jpg     0       1001     1.jpg\n",
      "...          ...   ...        ...       ...\n",
      "3619   990-4.jpg     1        990     4.jpg\n",
      "3620   998-1.jpg     1        998     1.jpg\n",
      "3621   998-2.jpg     1        998     2.jpg\n",
      "3622   998-3.jpg     1        998     3.jpg\n",
      "3623   998-4.jpg     1        998     4.jpg\n",
      "\n",
      "[3624 rows x 4 columns]\n",
      "csv 파일 저장 완료!\n"
     ]
    }
   ],
   "source": [
    "# 라이브러리 불러오기\n",
    "import os\n",
    "import pandas as pd\n",
    "import numpy as np\n",
    "\n",
    "# 경로 지정 (폴더 위치에 따라 수정이 필요함 *현재는 바탕화면 기준)\n",
    "path_nrm = \"./dataset/SET0/training_set/Normal group\"\n",
    "path_cbd = \"./dataset/SET0/training_set/CBD stone group\"\n",
    "\n",
    "file_list = os.listdir(path_nrm)\n",
    "file_list_cbd = os.listdir(path_cbd)\n",
    "\n",
    "# data frame 생성\n",
    "df1 = pd.DataFrame(file_list, columns=['File_Name'])\n",
    "df2 = pd.DataFrame(file_list_cbd, columns=['File_Name'])\n",
    "\n",
    "df1['Stone'] = np.nan\n",
    "df1.loc[:, ['Stone']] = '0' # 담석이 없으면 0\n",
    "df1['Person No.'] = np.nan\n",
    "df1['Image No.'] = np.nan\n",
    "\n",
    "df1 = df1.sort_values(by=['File_Name'])\n",
    "df1 = df1.reset_index(drop=True)\n",
    "\n",
    "df2['Stone'] = np.nan\n",
    "df2.loc[:, ['Stone']] = '1' # 담석이 있으면 1\n",
    "df2['Person No.'] = np.nan\n",
    "df2['Image No.'] = np.nan\n",
    "\n",
    "#print(df1)\n",
    "#print(df2) # 데이터값이 제대로 정리되어 들어갔는지 확인 출력 테스트\n",
    "\n",
    "# df1 와 df2 를 합치기\n",
    "df = pd.merge(df1, df2, how='outer')\n",
    "\n",
    "# '-'를 기준으로 왼쪽 텍스트는 Person No. , 오른쪽 텍스트는 Image No. 로 분류\n",
    "df['Person No.'] = df.File_Name.str.split('-').str[0]\n",
    "df['Image No.'] = df.File_Name.str.split('-').str[1]\n",
    "\n",
    "print(df)\n",
    "\n",
    "# csv 파일로 저장\n",
    "df.to_csv('./stone_dataset.csv')\n",
    "print('csv 파일 저장 완료!')"
   ]
  },
  {
   "cell_type": "code",
   "execution_count": null,
   "metadata": {},
   "outputs": [],
   "source": []
  }
 ],
 "metadata": {
  "kernelspec": {
   "display_name": "Python 3",
   "language": "python",
   "name": "python3"
  },
  "language_info": {
   "codemirror_mode": {
    "name": "ipython",
    "version": 3
   },
   "file_extension": ".py",
   "mimetype": "text/x-python",
   "name": "python",
   "nbconvert_exporter": "python",
   "pygments_lexer": "ipython3",
   "version": "3.8.3"
  }
 },
 "nbformat": 4,
 "nbformat_minor": 4
}
